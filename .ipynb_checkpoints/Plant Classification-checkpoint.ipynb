{
 "cells": [
  {
   "cell_type": "code",
   "execution_count": 1,
   "metadata": {},
   "outputs": [],
   "source": [
    "import os\n",
    "import tensorflow as tf\n",
    "import math"
   ]
  },
  {
   "cell_type": "code",
   "execution_count": 2,
   "metadata": {},
   "outputs": [],
   "source": [
    "def init_weights(shape):\n",
    "    return tf.Variable(tf.random_normal(shape, stddev=0.01))"
   ]
  },
  {
   "cell_type": "code",
   "execution_count": 3,
   "metadata": {},
   "outputs": [],
   "source": [
    "def __init__(self):\n",
    "    self.image_mean = np.array([103.939, 116.779, 123.68])"
   ]
  },
  {
   "cell_type": "code",
   "execution_count": 4,
   "metadata": {},
   "outputs": [],
   "source": [
    "def conv2d(x, n_in, n_out, k, s, p='SAME', bias=True, scope=None):\n",
    "    with tf.variable_scope(scope or 'Conv2D'):\n",
    "        kernel_init_std = math.sqrt(2.0 / (k * k * n_in))\n",
    "        kernel = tf.get_variable('Weight', shape=[k,k,n_in,n_out],initializer=tf.truncated_normal_initializer(0.0, kernel_init_std))\n",
    "        tf.add_to_collection('Weights', kernel)\n",
    "        y = tf.nn.conv2d(x, kernel, [1,1,s,s], padding=p, data_format='NCHW')\n",
    "        if bias == True:\n",
    "            bias = tf.get_variable('Bias', shape=[n_out],initializer=tf.constant_initializer(0.0))\n",
    "            tf.add_to_collection('Biases', bias)\n",
    "            y = tf.nn.bias_add(y, bias, data_format='NCHW')\n",
    "        return y"
   ]
  },
  {
   "cell_type": "code",
   "execution_count": 5,
   "metadata": {},
   "outputs": [],
   "source": [
    "def linear(x, n_in, n_out, bias=True, scope=None):\n",
    "     with tf.variable_scope(scope or 'Linear'):\n",
    "        weight_init_std = math.sqrt(1.0 / n_out)\n",
    "        weight = tf.get_variable('Weight', shape=[n_in,n_out],initializer=tf.truncated_normal_initializer(0.0, weight_init_std))\n",
    "        tf.add_to_collection('Weights', weight)\n",
    "        y = tf.matmul(x, weight)\n",
    "        if bias == True:\n",
    "            bias = tf.get_variable('Bias', shape=[n_out],initializer=tf.constant_initializer(0.0))\n",
    "            tf.add_to_collection('Biases', bias)\n",
    "            y = y + bias\n",
    "        return y"
   ]
  },
  {
   "cell_type": "code",
   "execution_count": 6,
   "metadata": {},
   "outputs": [],
   "source": [
    "def mlp(x, n_in, n_hidden, n_out, activation=tf.nn.relu, scope=None):\n",
    "    with tf.variable_scope(scope or 'Mlp'):\n",
    "        y = linear(x, n_in, n_hidden, scope='Linear1')\n",
    "        y = activation(y)\n",
    "        y = linear(y, n_hidden, n_out, scope='Linear2')\n",
    "    return y"
   ]
  },
  {
   "cell_type": "code",
   "execution_count": 7,
   "metadata": {},
   "outputs": [],
   "source": [
    "def _vgg_conv_relu(x, n_in, n_out, scope):\n",
    "    with tf.variable_scope(scope):\n",
    "        conv = conv2d(x, n_in, n_out, 3, 1, p='SAME')\n",
    "        relu = tf.nn.relu(conv)\n",
    "    return relu"
   ]
  },
  {
   "cell_type": "code",
   "execution_count": 8,
   "metadata": {},
   "outputs": [],
   "source": [
    "def _vgg_fully_connected( x, n_in, n_out, scope):\n",
    "    with tf.variable_scope(scope or 'Mlp'):\n",
    "        y = linear(x, n_in, n_hidden, scope='Linear1')\n",
    "        y = activation(y)\n",
    "        y = linear(y, n_hidden, n_out, scope='Linear2')\n",
    "    return y"
   ]
  },
  {
   "cell_type": "code",
   "execution_count": 9,
   "metadata": {},
   "outputs": [],
   "source": [
    "def _vgg_max_pool(x, scope):\n",
    "    with tf.variable_scope(scope):\n",
    "        pool = tf.nn.max_pool(x, [1,1,2,2], [1,1,2,2],padding='SAME', data_format='NCHW')\n",
    "    return pool"
   ]
  },
  {
   "cell_type": "code",
   "execution_count": 10,
   "metadata": {},
   "outputs": [],
   "source": [
    "def conv_archi():\n",
    "    scope='Vgg16'\n",
    "    with tf.variable_scope(scope or 'Vgg16'):\n",
    "        x = tf.placeholder(tf.float32, shape=[1,3,224,224])\n",
    "        x.shape\n",
    "        relu1_1 = _vgg_conv_relu(x, 3, 64, 'conv1_1')\n",
    "        relu1_2 = _vgg_conv_relu(relu1_1, 64, 64, 'conv1_2')\n",
    "        pool1 =_vgg_max_pool(relu1_2, 'pool1')\n",
    "\n",
    "        relu2_1 = _vgg_conv_relu(pool1, 64, 128, 'conv2_1')\n",
    "        relu2_2 =_vgg_conv_relu(relu2_1, 128, 128, 'conv2_2')\n",
    "        pool2 = _vgg_max_pool(relu2_2, 'pool2')\n",
    "\n",
    "        relu3_1 = _vgg_conv_relu(pool2, 128, 256, 'conv3_1')\n",
    "        relu3_2 = _vgg_conv_relu(relu3_1, 256, 256, 'conv3_2')\n",
    "        relu3_3 = _vgg_conv_relu(relu3_2, 256, 256, 'conv3_3')\n",
    "        pool3 = _vgg_max_pool(relu3_3, 'pool3')\n",
    "\n",
    "\n",
    "        relu4_1 = _vgg_conv_relu(pool3, 256, 512, 'conv4_1')\n",
    "        relu4_2 = _vgg_conv_relu(relu4_1, 512, 512, 'conv4_2')\n",
    "        relu4_3 = _vgg_conv_relu(relu4_2, 512, 512, 'conv4_3')\n",
    "        pool4 = _vgg_max_pool(relu4_3, 'pool4')\n",
    "\n",
    "        relu5_1 = _vgg_conv_relu(pool4, 512, 512, 'conv5_1')\n",
    "        relu5_2 = _vgg_conv_relu(relu5_1, 512, 512, 'conv5_2')\n",
    "        relu5_3 = _vgg_conv_relu(relu5_2, 512, 512, 'conv5_3')\n",
    "        pool5 = _vgg_max_pool(relu5_3, 'pool5')\n",
    "        n_conv_out = 7*7*512\n",
    "        flatten = tf.reshape(pool5, [-1,n_conv_out])\n",
    "        fc6 = self._vgg_fully_connected(flatten, n_conv_out, 4096, scope='fc6')\n",
    "        relu_6 = tf.nn.relu(fc6)\n",
    "        prob = tf.nn.softmax(fc8)\n",
    "    return prob\n",
    "\n"
   ]
  },
  {
   "cell_type": "code",
   "execution_count": null,
   "metadata": {},
   "outputs": [],
   "source": []
  }
 ],
 "metadata": {
  "kernelspec": {
   "display_name": "Python 2",
   "language": "python",
   "name": "python2"
  },
  "language_info": {
   "codemirror_mode": {
    "name": "ipython",
    "version": 2
   },
   "file_extension": ".py",
   "mimetype": "text/x-python",
   "name": "python",
   "nbconvert_exporter": "python",
   "pygments_lexer": "ipython2",
   "version": "2.7.15rc1"
  }
 },
 "nbformat": 4,
 "nbformat_minor": 2
}
